{
 "cells": [
  {
   "cell_type": "code",
   "execution_count": 2,
   "id": "96d25268-8690-4c0c-9a07-4f8895c8613b",
   "metadata": {},
   "outputs": [],
   "source": [
    "from sklearn.model_selection import train_test_split\n",
    "import pandas as pd"
   ]
  },
  {
   "cell_type": "markdown",
   "id": "d1cc06bd-563b-4b51-9ba3-58d7c822a93d",
   "metadata": {},
   "source": [
    "# Data preparation and features analysis"
   ]
  },
  {
   "cell_type": "code",
   "execution_count": 3,
   "id": "9161a8ca-2257-42ab-8c5c-70c8d9b6905b",
   "metadata": {},
   "outputs": [],
   "source": [
    "features_df = pd.read_csv('features.csv')\n",
    "tags_df = pd.read_csv('tags.csv')"
   ]
  },
  {
   "cell_type": "code",
   "execution_count": 47,
   "id": "799f91a5-3c2a-4ef4-9bf6-b06291f89659",
   "metadata": {},
   "outputs": [],
   "source": [
    "new_df = features_df.copy()\n",
    "new_df.drop(columns=['node1', 'node2'], inplace=True)\n",
    "new_df = new_df.astype('float64')\n",
    "new_df['label'] = tags_df['label']"
   ]
  },
  {
   "cell_type": "code",
   "execution_count": 48,
   "id": "1d126734-a30a-423b-8744-b6e76cd5b1f7",
   "metadata": {},
   "outputs": [
    {
     "data": {
      "text/plain": [
       "<AxesSubplot:title={'center':'cn'}, xlabel='label'>"
      ]
     },
     "execution_count": 48,
     "metadata": {},
     "output_type": "execute_result"
    },
    {
     "data": {
      "image/png": "[encoded data removed]",
      "text/plain": [
       "<Figure size 576x288 with 1 Axes>"
      ]
     },
     "metadata": {
      "needs_background": "light"
     },
     "output_type": "display_data"
    }
   ],
   "source": [
    "new_df.boxplot(column='cn', by='label', figsize=(8,4))"
   ]
  },
  {
   "cell_type": "code",
   "execution_count": 11,
   "id": "6e346197-56f2-4221-8b7b-780d64983e50",
   "metadata": {},
   "outputs": [
    {
     "data": {
      "text/plain": [
       "<AxesSubplot:title={'center':'tn'}, xlabel='label'>"
      ]
     },
     "execution_count": 11,
     "metadata": {},
     "output_type": "execute_result"
    },
    {
     "data": {
      "image/png": "[encoded data removed]",
      "text/plain": [
       "<Figure size 576x288 with 1 Axes>"
      ]
     },
     "metadata": {
      "needs_background": "light"
     },
     "output_type": "display_data"
    }
   ],
   "source": [
    "new_df.boxplot(column='pa', by='label', figsize=(8,4))"
   ]
  },
  {
   "cell_type": "code",
   "execution_count": 12,
   "id": "bfe3c2e1-ce00-4c9f-95ce-4aff83d0d959",
   "metadata": {},
   "outputs": [
    {
     "data": {
      "text/plain": [
       "<AxesSubplot:title={'center':'tn'}, xlabel='label'>"
      ]
     },
     "execution_count": 12,
     "metadata": {},
     "output_type": "execute_result"
    },
    {
     "data": {
      "image/png": "[encoded data removed]",
      "text/plain": [
       "<Figure size 576x288 with 1 Axes>"
      ]
     },
     "metadata": {
      "needs_background": "light"
     },
     "output_type": "display_data"
    }
   ],
   "source": [
    "new_df.boxplot(column='tn', by='label', figsize=(8,4))"
   ]
  },
  {
   "cell_type": "code",
   "execution_count": 13,
   "id": "814671f8-6042-4002-b5c5-7ff78527b919",
   "metadata": {},
   "outputs": [],
   "source": [
    "X_train, X_test, y_train, y_test = train_test_split(new_df.drop(columns='label'), new_df['label'], test_size=0.33, random_state=42)"
   ]
  },
  {
   "cell_type": "markdown",
   "id": "abd0d712-ccbf-4982-a2db-26d7cec0f999",
   "metadata": {},
   "source": [
    "# Model training and hyperparameter tuning"
   ]
  },
  {
   "cell_type": "code",
   "execution_count": 24,
   "id": "7d3f0fb6-0a89-463d-8ae6-5c7bcf18b154",
   "metadata": {},
   "outputs": [],
   "source": [
    "from sklearn.metrics import classification_report\n",
    "from sklearn.model_selection import GridSearchCV\n",
    "from sklearn.ensemble import RandomForestClassifier \n",
    "hyperparameters = {\n",
    "    'n_estimators': [10, 25, 50, 100],\n",
    "    'criterion':['gini', 'entropy']\n",
    "}\n",
    "model_rf = GridSearchCV(RandomForestClassifier(), param_grid=hyperparameters, cv=10)"
   ]
  },
  {
   "cell_type": "code",
   "execution_count": null,
   "id": "1e78f26d-4fa5-4079-affe-c458d40eb635",
   "metadata": {},
   "outputs": [],
   "source": [
    "model_rf.fit(X_train, y_train)\n",
    "print(model_rf.best_params_)"
   ]
  },
  {
   "cell_type": "code",
   "execution_count": null,
   "id": "2a75b2df-2814-46f7-b57f-d49cf521a59c",
   "metadata": {},
   "outputs": [],
   "source": [
    "y_pred = model_rf.predict(X_test)"
   ]
  },
  {
   "cell_type": "code",
   "execution_count": null,
   "id": "68823aac-66a8-4bce-a168-bb005d0804fd",
   "metadata": {},
   "outputs": [],
   "source": [
    "print(classification_report(y_test, y_pred))"
   ]
  },
  {
   "cell_type": "code",
   "execution_count": 49,
   "id": "6824eba6-3579-4814-993e-6bef597d8acc",
   "metadata": {},
   "outputs": [],
   "source": [
    "from sklearn.naive_bayes import MultinomialNB \n",
    "hyperparameters = {\n",
    "    'alpha': [1, 5, 10, 20, 100]\n",
    "}\n",
    "model_nb = GridSearchCV(MultinomialNB(), param_grid=hyperparameters, cv=10)"
   ]
  },
  {
   "cell_type": "code",
   "execution_count": 61,
   "id": "f1c8223d-dc54-43e6-824f-593f27e669d2",
   "metadata": {},
   "outputs": [
    {
     "name": "stdout",
     "output_type": "stream",
     "text": [
      "{'alpha': 100}\n"
     ]
    }
   ],
   "source": [
    "model_nb.fit(X_train, y_train)\n",
    "print(model_nb.best_params_)"
   ]
  },
  {
   "cell_type": "code",
   "execution_count": 62,
   "id": "42a252b0-08f2-49a0-b196-6221bd5ea446",
   "metadata": {},
   "outputs": [],
   "source": [
    "y_pred = model_nb.predict(X_test)"
   ]
  },
  {
   "cell_type": "code",
   "execution_count": 63,
   "id": "9dab6c07-6d81-4a74-955c-daf2be8c39a1",
   "metadata": {},
   "outputs": [
    {
     "name": "stdout",
     "output_type": "stream",
     "text": [
      "              precision    recall  f1-score   support\n",
      "\n",
      "         0.0       1.00      0.99      0.99     55197\n",
      "         1.0       0.36      0.61      0.45       412\n",
      "\n",
      "    accuracy                           0.99     55609\n",
      "   macro avg       0.68      0.80      0.72     55609\n",
      "weighted avg       0.99      0.99      0.99     55609\n",
      "\n"
     ]
    }
   ],
   "source": [
    "print(classification_report(y_test, y_pred))"
   ]
  },
  {
   "cell_type": "code",
   "execution_count": 70,
   "id": "3a07c426-31a3-4124-b061-95a309b13a0b",
   "metadata": {},
   "outputs": [],
   "source": [
    "from sklearn.neighbors import KNeighborsClassifier \n",
    "hyperparameters = {\n",
    "    'n_neighbors': [5, 10, 20]\n",
    "}\n",
    "model_knn = GridSearchCV(KNeighborsClassifier(), param_grid=hyperparameters, cv=10)"
   ]
  },
  {
   "cell_type": "code",
   "execution_count": 71,
   "id": "6b9e31d6-9126-433a-be2d-c8c4a774e8e7",
   "metadata": {},
   "outputs": [
    {
     "name": "stdout",
     "output_type": "stream",
     "text": [
      "{'n_neighbors': 5}\n"
     ]
    }
   ],
   "source": [
    "model_knn.fit(X_train, y_train)\n",
    "print(model_knn.best_params_)"
   ]
  },
  {
   "cell_type": "code",
   "execution_count": 72,
   "id": "002bf1c4-2ea6-4cea-a208-7afeb6067f08",
   "metadata": {},
   "outputs": [],
   "source": [
    "y_pred = model_knn.predict(X_test)"
   ]
  },
  {
   "cell_type": "code",
   "execution_count": 73,
   "id": "bb3548ba-5eac-40cd-bd3e-39eb4bb4d954",
   "metadata": {},
   "outputs": [
    {
     "name": "stdout",
     "output_type": "stream",
     "text": [
      "              precision    recall  f1-score   support\n",
      "\n",
      "         0.0       1.00      1.00      1.00     55197\n",
      "         1.0       0.99      0.87      0.92       412\n",
      "\n",
      "    accuracy                           1.00     55609\n",
      "   macro avg       1.00      0.93      0.96     55609\n",
      "weighted avg       1.00      1.00      1.00     55609\n",
      "\n"
     ]
    }
   ],
   "source": [
    "print(classification_report(y_test, y_pred))"
   ]
  },
  {
   "cell_type": "code",
   "execution_count": null,
   "id": "0a39e820-9a87-4063-8024-11afb1341de4",
   "metadata": {},
   "outputs": [],
   "source": []
  }
 ],
 "metadata": {
  "kernelspec": {
   "display_name": "Python 3",
   "language": "python",
   "name": "python3"
  },
  "language_info": {
   "codemirror_mode": {
    "name": "ipython",
    "version": 3
   },
   "file_extension": ".py",
   "mimetype": "text/x-python",
   "name": "python",
   "nbconvert_exporter": "python",
   "pygments_lexer": "ipython3",
   "version": "3.9.6"
  }
 },
 "nbformat": 4,
 "nbformat_minor": 5
}
